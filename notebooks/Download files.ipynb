{
 "cells": [
  {
   "cell_type": "code",
   "execution_count": 2,
   "id": "d80ec37c",
   "metadata": {},
   "outputs": [],
   "source": [
    "import requests"
   ]
  },
  {
   "cell_type": "markdown",
   "id": "5aebd853",
   "metadata": {},
   "source": [
    "https://zenodo.org/record/4715656#.YzakC-xBxo8"
   ]
  },
  {
   "cell_type": "code",
   "execution_count": 1,
   "id": "b7a28f18",
   "metadata": {},
   "outputs": [],
   "source": [
    "urls = [f\"https://zenodo.org/record/4715656/files/S{i:02d}.ome.tiff?download=1\" for i in range(88)]"
   ]
  },
  {
   "cell_type": "code",
   "execution_count": 4,
   "id": "5c53fdc1",
   "metadata": {},
   "outputs": [],
   "source": [
    "url = urls[0]"
   ]
  },
  {
   "cell_type": "code",
   "execution_count": 5,
   "id": "9b3a8c6a",
   "metadata": {},
   "outputs": [],
   "source": [
    "response = requests.get(url)"
   ]
  },
  {
   "cell_type": "code",
   "execution_count": 6,
   "id": "93025795",
   "metadata": {},
   "outputs": [],
   "source": [
    "fpaths = [f\"imgs/S{i:02d}.ome.tiff\" for i in range(88)]"
   ]
  },
  {
   "cell_type": "code",
   "execution_count": 7,
   "id": "2bdca224",
   "metadata": {},
   "outputs": [],
   "source": [
    "fpath = fpaths[0]"
   ]
  },
  {
   "cell_type": "code",
   "execution_count": 9,
   "id": "92214f12",
   "metadata": {},
   "outputs": [],
   "source": [
    "with open(fpath, 'wb') as file:\n",
    "    file.write(response.content)"
   ]
  },
  {
   "cell_type": "code",
   "execution_count": 10,
   "id": "d14f0c1a",
   "metadata": {},
   "outputs": [
    {
     "name": "stdout",
     "output_type": "stream",
     "text": [
      "imgs/S00.ome.tiff\n",
      "imgs/S01.ome.tiff\n",
      "imgs/S02.ome.tiff\n",
      "imgs/S03.ome.tiff\n",
      "imgs/S04.ome.tiff\n",
      "imgs/S05.ome.tiff\n",
      "imgs/S06.ome.tiff\n",
      "imgs/S07.ome.tiff\n",
      "imgs/S08.ome.tiff\n",
      "imgs/S09.ome.tiff\n",
      "imgs/S10.ome.tiff\n",
      "imgs/S11.ome.tiff\n",
      "imgs/S12.ome.tiff\n",
      "imgs/S13.ome.tiff\n",
      "imgs/S14.ome.tiff\n",
      "imgs/S15.ome.tiff\n",
      "imgs/S16.ome.tiff\n",
      "imgs/S17.ome.tiff\n",
      "imgs/S18.ome.tiff\n",
      "imgs/S19.ome.tiff\n",
      "imgs/S20.ome.tiff\n",
      "imgs/S21.ome.tiff\n",
      "imgs/S22.ome.tiff\n",
      "imgs/S23.ome.tiff\n",
      "imgs/S24.ome.tiff\n",
      "imgs/S25.ome.tiff\n",
      "imgs/S26.ome.tiff\n",
      "imgs/S27.ome.tiff\n",
      "imgs/S28.ome.tiff\n",
      "imgs/S29.ome.tiff\n",
      "imgs/S30.ome.tiff\n",
      "imgs/S31.ome.tiff\n",
      "imgs/S32.ome.tiff\n",
      "imgs/S33.ome.tiff\n",
      "imgs/S34.ome.tiff\n",
      "imgs/S35.ome.tiff\n",
      "imgs/S36.ome.tiff\n",
      "imgs/S37.ome.tiff\n",
      "imgs/S38.ome.tiff\n",
      "imgs/S39.ome.tiff\n",
      "imgs/S40.ome.tiff\n",
      "imgs/S41.ome.tiff\n",
      "imgs/S42.ome.tiff\n",
      "imgs/S43.ome.tiff\n",
      "imgs/S44.ome.tiff\n",
      "imgs/S45.ome.tiff\n",
      "imgs/S46.ome.tiff\n",
      "imgs/S47.ome.tiff\n",
      "imgs/S48.ome.tiff\n",
      "imgs/S49.ome.tiff\n",
      "imgs/S50.ome.tiff\n",
      "imgs/S51.ome.tiff\n",
      "imgs/S52.ome.tiff\n",
      "imgs/S53.ome.tiff\n",
      "imgs/S54.ome.tiff\n",
      "imgs/S55.ome.tiff\n",
      "imgs/S56.ome.tiff\n",
      "imgs/S57.ome.tiff\n",
      "imgs/S58.ome.tiff\n",
      "imgs/S59.ome.tiff\n",
      "imgs/S60.ome.tiff\n",
      "imgs/S61.ome.tiff\n",
      "imgs/S62.ome.tiff\n",
      "imgs/S63.ome.tiff\n",
      "imgs/S64.ome.tiff\n",
      "imgs/S65.ome.tiff\n",
      "imgs/S66.ome.tiff\n",
      "imgs/S67.ome.tiff\n",
      "imgs/S68.ome.tiff\n",
      "imgs/S69.ome.tiff\n",
      "imgs/S70.ome.tiff\n",
      "imgs/S71.ome.tiff\n",
      "imgs/S72.ome.tiff\n",
      "imgs/S73.ome.tiff\n",
      "imgs/S74.ome.tiff\n",
      "imgs/S75.ome.tiff\n",
      "imgs/S76.ome.tiff\n",
      "imgs/S77.ome.tiff\n",
      "imgs/S78.ome.tiff\n",
      "imgs/S79.ome.tiff\n",
      "imgs/S80.ome.tiff\n",
      "imgs/S81.ome.tiff\n",
      "imgs/S82.ome.tiff\n",
      "imgs/S83.ome.tiff\n",
      "imgs/S84.ome.tiff\n",
      "imgs/S85.ome.tiff\n",
      "imgs/S86.ome.tiff\n",
      "imgs/S87.ome.tiff\n"
     ]
    }
   ],
   "source": [
    "for url, fpath in zip(urls, fpaths):\n",
    "    response = requests.get(url)\n",
    "    with open(fpath, 'wb') as file:\n",
    "        file.write(response.content)\n",
    "    print(fpath)"
   ]
  },
  {
   "cell_type": "code",
   "execution_count": null,
   "id": "ab1f97f7",
   "metadata": {},
   "outputs": [],
   "source": []
  }
 ],
 "metadata": {
  "kernelspec": {
   "display_name": "Python 3 (ipykernel)",
   "language": "python",
   "name": "python3"
  },
  "language_info": {
   "codemirror_mode": {
    "name": "ipython",
    "version": 3
   },
   "file_extension": ".py",
   "mimetype": "text/x-python",
   "name": "python",
   "nbconvert_exporter": "python",
   "pygments_lexer": "ipython3",
   "version": "3.10.4"
  }
 },
 "nbformat": 4,
 "nbformat_minor": 5
}
