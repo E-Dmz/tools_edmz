{
 "cells": [
  {
   "cell_type": "markdown",
   "id": "9ccd750c",
   "metadata": {},
   "source": [
    "# Inspects at a `cells.feather` file (one sample)"
   ]
  },
  {
   "cell_type": "markdown",
   "id": "939d1743",
   "metadata": {},
   "source": [
    "- `Creation` = 2022_10_07\n",
    "- `Last modification` = 2022_10_07"
   ]
  },
  {
   "cell_type": "markdown",
   "id": "289f31c6",
   "metadata": {},
   "source": [
    "## Imports"
   ]
  },
  {
   "cell_type": "code",
   "execution_count": 1,
   "id": "614293e6",
   "metadata": {},
   "outputs": [],
   "source": [
    "import pandas as pd\n",
    "import matplotlib.pyplot as plt\n",
    "import seaborn as sns"
   ]
  },
  {
   "cell_type": "markdown",
   "id": "c34854b8",
   "metadata": {},
   "source": [
    "## Opening the file"
   ]
  },
  {
   "cell_type": "code",
   "execution_count": 2,
   "id": "195492c2",
   "metadata": {},
   "outputs": [
    {
     "data": {
      "text/html": [
       "<div>\n",
       "<style scoped>\n",
       "    .dataframe tbody tr th:only-of-type {\n",
       "        vertical-align: middle;\n",
       "    }\n",
       "\n",
       "    .dataframe tbody tr th {\n",
       "        vertical-align: top;\n",
       "    }\n",
       "\n",
       "    .dataframe thead th {\n",
       "        text-align: right;\n",
       "    }\n",
       "</style>\n",
       "<table border=\"1\" class=\"dataframe\">\n",
       "  <thead>\n",
       "    <tr style=\"text-align: right;\">\n",
       "      <th></th>\n",
       "      <th>x</th>\n",
       "      <th>y</th>\n",
       "      <th>z</th>\n",
       "      <th>size</th>\n",
       "      <th>source</th>\n",
       "      <th>id</th>\n",
       "      <th>xt</th>\n",
       "      <th>yt</th>\n",
       "      <th>zt</th>\n",
       "      <th>order</th>\n",
       "      <th>hemisphere</th>\n",
       "      <th>name</th>\n",
       "      <th>color</th>\n",
       "      <th>volume</th>\n",
       "    </tr>\n",
       "  </thead>\n",
       "  <tbody>\n",
       "    <tr>\n",
       "      <th>0</th>\n",
       "      <td>3215</td>\n",
       "      <td>3190</td>\n",
       "      <td>63</td>\n",
       "      <td>152</td>\n",
       "      <td>9840723.0</td>\n",
       "      <td>0</td>\n",
       "      <td>252.417411</td>\n",
       "      <td>311.154415</td>\n",
       "      <td>7.025416</td>\n",
       "      <td>0</td>\n",
       "      <td>255</td>\n",
       "      <td>universe</td>\n",
       "      <td>[0.0, 0.0, 0.0]</td>\n",
       "      <td>697787109375</td>\n",
       "    </tr>\n",
       "    <tr>\n",
       "      <th>1</th>\n",
       "      <td>2758</td>\n",
       "      <td>3015</td>\n",
       "      <td>67</td>\n",
       "      <td>56</td>\n",
       "      <td>15002249.0</td>\n",
       "      <td>0</td>\n",
       "      <td>216.549555</td>\n",
       "      <td>297.354154</td>\n",
       "      <td>11.607513</td>\n",
       "      <td>0</td>\n",
       "      <td>0</td>\n",
       "      <td>universe</td>\n",
       "      <td>[0.0, 0.0, 0.0]</td>\n",
       "      <td>697787109375</td>\n",
       "    </tr>\n",
       "    <tr>\n",
       "      <th>2</th>\n",
       "      <td>2058</td>\n",
       "      <td>2815</td>\n",
       "      <td>70</td>\n",
       "      <td>118</td>\n",
       "      <td>18837674.0</td>\n",
       "      <td>0</td>\n",
       "      <td>160.973055</td>\n",
       "      <td>282.263718</td>\n",
       "      <td>18.186485</td>\n",
       "      <td>0</td>\n",
       "      <td>0</td>\n",
       "      <td>universe</td>\n",
       "      <td>[0.0, 0.0, 0.0]</td>\n",
       "      <td>697787109375</td>\n",
       "    </tr>\n",
       "    <tr>\n",
       "      <th>3</th>\n",
       "      <td>2499</td>\n",
       "      <td>3146</td>\n",
       "      <td>71</td>\n",
       "      <td>85</td>\n",
       "      <td>20225798.0</td>\n",
       "      <td>0</td>\n",
       "      <td>196.350462</td>\n",
       "      <td>308.234519</td>\n",
       "      <td>12.046745</td>\n",
       "      <td>0</td>\n",
       "      <td>0</td>\n",
       "      <td>universe</td>\n",
       "      <td>[0.0, 0.0, 0.0]</td>\n",
       "      <td>697787109375</td>\n",
       "    </tr>\n",
       "    <tr>\n",
       "      <th>4</th>\n",
       "      <td>2404</td>\n",
       "      <td>2583</td>\n",
       "      <td>78</td>\n",
       "      <td>187</td>\n",
       "      <td>6006774.0</td>\n",
       "      <td>0</td>\n",
       "      <td>188.846829</td>\n",
       "      <td>263.822546</td>\n",
       "      <td>19.862904</td>\n",
       "      <td>0</td>\n",
       "      <td>0</td>\n",
       "      <td>universe</td>\n",
       "      <td>[0.0, 0.0, 0.0]</td>\n",
       "      <td>697787109375</td>\n",
       "    </tr>\n",
       "    <tr>\n",
       "      <th>...</th>\n",
       "      <td>...</td>\n",
       "      <td>...</td>\n",
       "      <td>...</td>\n",
       "      <td>...</td>\n",
       "      <td>...</td>\n",
       "      <td>...</td>\n",
       "      <td>...</td>\n",
       "      <td>...</td>\n",
       "      <td>...</td>\n",
       "      <td>...</td>\n",
       "      <td>...</td>\n",
       "      <td>...</td>\n",
       "      <td>...</td>\n",
       "      <td>...</td>\n",
       "    </tr>\n",
       "    <tr>\n",
       "      <th>45459</th>\n",
       "      <td>2989</td>\n",
       "      <td>2906</td>\n",
       "      <td>1928</td>\n",
       "      <td>720</td>\n",
       "      <td>19111106.0</td>\n",
       "      <td>0</td>\n",
       "      <td>241.001125</td>\n",
       "      <td>301.246624</td>\n",
       "      <td>300.103735</td>\n",
       "      <td>0</td>\n",
       "      <td>255</td>\n",
       "      <td>universe</td>\n",
       "      <td>[0.0, 0.0, 0.0]</td>\n",
       "      <td>697787109375</td>\n",
       "    </tr>\n",
       "    <tr>\n",
       "      <th>45460</th>\n",
       "      <td>3344</td>\n",
       "      <td>4589</td>\n",
       "      <td>1940</td>\n",
       "      <td>57</td>\n",
       "      <td>8798607.0</td>\n",
       "      <td>0</td>\n",
       "      <td>267.654416</td>\n",
       "      <td>422.508356</td>\n",
       "      <td>287.271656</td>\n",
       "      <td>0</td>\n",
       "      <td>255</td>\n",
       "      <td>universe</td>\n",
       "      <td>[0.0, 0.0, 0.0]</td>\n",
       "      <td>697787109375</td>\n",
       "    </tr>\n",
       "    <tr>\n",
       "      <th>45461</th>\n",
       "      <td>2135</td>\n",
       "      <td>5636</td>\n",
       "      <td>1979</td>\n",
       "      <td>65</td>\n",
       "      <td>16131788.0</td>\n",
       "      <td>0</td>\n",
       "      <td>165.716385</td>\n",
       "      <td>507.782585</td>\n",
       "      <td>300.758661</td>\n",
       "      <td>0</td>\n",
       "      <td>0</td>\n",
       "      <td>universe</td>\n",
       "      <td>[0.0, 0.0, 0.0]</td>\n",
       "      <td>697787109375</td>\n",
       "    </tr>\n",
       "    <tr>\n",
       "      <th>45462</th>\n",
       "      <td>3503</td>\n",
       "      <td>5334</td>\n",
       "      <td>1989</td>\n",
       "      <td>52</td>\n",
       "      <td>38127624.0</td>\n",
       "      <td>0</td>\n",
       "      <td>281.117839</td>\n",
       "      <td>481.403220</td>\n",
       "      <td>293.956547</td>\n",
       "      <td>0</td>\n",
       "      <td>255</td>\n",
       "      <td>universe</td>\n",
       "      <td>[0.0, 0.0, 0.0]</td>\n",
       "      <td>697787109375</td>\n",
       "    </tr>\n",
       "    <tr>\n",
       "      <th>45463</th>\n",
       "      <td>4108</td>\n",
       "      <td>808</td>\n",
       "      <td>2018</td>\n",
       "      <td>50</td>\n",
       "      <td>22769726.0</td>\n",
       "      <td>496345664</td>\n",
       "      <td>329.057548</td>\n",
       "      <td>139.281949</td>\n",
       "      <td>324.369881</td>\n",
       "      <td>672</td>\n",
       "      <td>0</td>\n",
       "      <td>Dorsal part of the lateral geniculate complex,...</td>\n",
       "      <td>[1.0, 0.5019607843137255, 0.5176470588235295]</td>\n",
       "      <td>207484375</td>\n",
       "    </tr>\n",
       "  </tbody>\n",
       "</table>\n",
       "<p>45464 rows × 14 columns</p>\n",
       "</div>"
      ],
      "text/plain": [
       "          x     y     z  size      source         id          xt          yt  \\\n",
       "0      3215  3190    63   152   9840723.0          0  252.417411  311.154415   \n",
       "1      2758  3015    67    56  15002249.0          0  216.549555  297.354154   \n",
       "2      2058  2815    70   118  18837674.0          0  160.973055  282.263718   \n",
       "3      2499  3146    71    85  20225798.0          0  196.350462  308.234519   \n",
       "4      2404  2583    78   187   6006774.0          0  188.846829  263.822546   \n",
       "...     ...   ...   ...   ...         ...        ...         ...         ...   \n",
       "45459  2989  2906  1928   720  19111106.0          0  241.001125  301.246624   \n",
       "45460  3344  4589  1940    57   8798607.0          0  267.654416  422.508356   \n",
       "45461  2135  5636  1979    65  16131788.0          0  165.716385  507.782585   \n",
       "45462  3503  5334  1989    52  38127624.0          0  281.117839  481.403220   \n",
       "45463  4108   808  2018    50  22769726.0  496345664  329.057548  139.281949   \n",
       "\n",
       "               zt  order  hemisphere  \\\n",
       "0        7.025416      0         255   \n",
       "1       11.607513      0           0   \n",
       "2       18.186485      0           0   \n",
       "3       12.046745      0           0   \n",
       "4       19.862904      0           0   \n",
       "...           ...    ...         ...   \n",
       "45459  300.103735      0         255   \n",
       "45460  287.271656      0         255   \n",
       "45461  300.758661      0           0   \n",
       "45462  293.956547      0         255   \n",
       "45463  324.369881    672           0   \n",
       "\n",
       "                                                    name  \\\n",
       "0                                               universe   \n",
       "1                                               universe   \n",
       "2                                               universe   \n",
       "3                                               universe   \n",
       "4                                               universe   \n",
       "...                                                  ...   \n",
       "45459                                           universe   \n",
       "45460                                           universe   \n",
       "45461                                           universe   \n",
       "45462                                           universe   \n",
       "45463  Dorsal part of the lateral geniculate complex,...   \n",
       "\n",
       "                                               color        volume  \n",
       "0                                    [0.0, 0.0, 0.0]  697787109375  \n",
       "1                                    [0.0, 0.0, 0.0]  697787109375  \n",
       "2                                    [0.0, 0.0, 0.0]  697787109375  \n",
       "3                                    [0.0, 0.0, 0.0]  697787109375  \n",
       "4                                    [0.0, 0.0, 0.0]  697787109375  \n",
       "...                                              ...           ...  \n",
       "45459                                [0.0, 0.0, 0.0]  697787109375  \n",
       "45460                                [0.0, 0.0, 0.0]  697787109375  \n",
       "45461                                [0.0, 0.0, 0.0]  697787109375  \n",
       "45462                                [0.0, 0.0, 0.0]  697787109375  \n",
       "45463  [1.0, 0.5019607843137255, 0.5176470588235295]     207484375  \n",
       "\n",
       "[45464 rows x 14 columns]"
      ]
     },
     "execution_count": 2,
     "metadata": {},
     "output_type": "execute_result"
    }
   ],
   "source": [
    "FPATH = \"/home/etienne.doumazane/data/Alba/200316-81/cells.feather\"\n",
    "df = pd.read_feather(FPATH)\n",
    "df"
   ]
  },
  {
   "cell_type": "markdown",
   "id": "3d1c1515",
   "metadata": {},
   "source": [
    "## Hemispheres"
   ]
  },
  {
   "cell_type": "code",
   "execution_count": 3,
   "id": "82961cda",
   "metadata": {},
   "outputs": [
    {
     "data": {
      "text/plain": [
       "True"
      ]
     },
     "execution_count": 3,
     "metadata": {},
     "output_type": "execute_result"
    }
   ],
   "source": [
    "'hemisphere' in df.columns"
   ]
  },
  {
   "cell_type": "code",
   "execution_count": 4,
   "id": "b4b8e461",
   "metadata": {},
   "outputs": [
    {
     "data": {
      "text/plain": [
       "array([255,   0])"
      ]
     },
     "execution_count": 4,
     "metadata": {},
     "output_type": "execute_result"
    }
   ],
   "source": [
    "df.hemisphere.unique()"
   ]
  },
  {
   "cell_type": "markdown",
   "id": "19d527b1",
   "metadata": {},
   "source": [
    "##  Number of cells in sample"
   ]
  },
  {
   "cell_type": "code",
   "execution_count": 5,
   "id": "5e96f1c1",
   "metadata": {},
   "outputs": [
    {
     "data": {
      "text/plain": [
       "45464"
      ]
     },
     "execution_count": 5,
     "metadata": {},
     "output_type": "execute_result"
    }
   ],
   "source": [
    "df.shape[0]"
   ]
  },
  {
   "cell_type": "markdown",
   "id": "6d9562af",
   "metadata": {},
   "source": [
    "## Distribution of cells across the large regions of the brain"
   ]
  },
  {
   "cell_type": "code",
   "execution_count": 6,
   "id": "8cc964e6",
   "metadata": {},
   "outputs": [
    {
     "data": {
      "text/plain": [
       "name\n",
       "universe                                               38850\n",
       "Main olfactory bulb                                     4243\n",
       "Caudoputamen                                             361\n",
       "Anterior olfactory nucleus                               216\n",
       "Accessory olfactory bulb, granular layer                 194\n",
       "                                                       ...  \n",
       "Periventricular hypothalamic nucleus, anterior part        1\n",
       "Pallidum                                                   1\n",
       "Olfactory tubercle                                         1\n",
       "Zona incerta                                               1\n",
       "Anteroventral periventricular nucleus                      1\n",
       "Name: id, Length: 138, dtype: int64"
      ]
     },
     "execution_count": 6,
     "metadata": {},
     "output_type": "execute_result"
    }
   ],
   "source": [
    "df.groupby('name')['id'].count().sort_values(ascending=False)"
   ]
  },
  {
   "cell_type": "code",
   "execution_count": 7,
   "id": "4de0cd0f",
   "metadata": {},
   "outputs": [],
   "source": [
    "counts = (df.groupby('name')['id'].count()\n",
    "          .sort_values(ascending=False)\n",
    "          .to_frame().reset_index()\n",
    "          .rename(columns={\"id\":\"count\"}).head(20))"
   ]
  },
  {
   "cell_type": "code",
   "execution_count": 8,
   "id": "b3919da4",
   "metadata": {},
   "outputs": [
    {
     "data": {
      "text/plain": [
       "<AxesSubplot:xlabel='count', ylabel='name'>"
      ]
     },
     "execution_count": 8,
     "metadata": {},
     "output_type": "execute_result"
    },
    {
     "data": {
      "image/png": "[encoded data removed]",
      "text/plain": [
       "<Figure size 432x288 with 1 Axes>"
      ]
     },
     "metadata": {
      "needs_background": "light"
     },
     "output_type": "display_data"
    }
   ],
   "source": [
    "sns.barplot(data=counts, x='count', y=\"name\")"
   ]
  },
  {
   "cell_type": "code",
   "execution_count": null,
   "id": "2c922ed0",
   "metadata": {},
   "outputs": [],
   "source": []
  }
 ],
 "metadata": {
  "kernelspec": {
   "display_name": "Python 3",
   "language": "python",
   "name": "python3"
  },
  "language_info": {
   "codemirror_mode": {
    "name": "ipython",
    "version": 3
   },
   "file_extension": ".py",
   "mimetype": "text/x-python",
   "name": "python",
   "nbconvert_exporter": "python",
   "pygments_lexer": "ipython3",
   "version": "3.9.13"
  }
 },
 "nbformat": 4,
 "nbformat_minor": 5
}
