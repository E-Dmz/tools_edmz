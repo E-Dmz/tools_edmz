{
 "cells": [
  {
   "cell_type": "markdown",
   "id": "823f26a0",
   "metadata": {},
   "source": [
    "# Converts a batch of `FEATHER` files into `CSV` files"
   ]
  },
  {
   "cell_type": "markdown",
   "id": "0ae5855b",
   "metadata": {},
   "source": [
    "- `Creation` = 2022_10_07\n",
    "- `Last modification` = 2022_10_07"
   ]
  },
  {
   "cell_type": "markdown",
   "id": "3b442d5d",
   "metadata": {},
   "source": [
    "## Imports"
   ]
  },
  {
   "cell_type": "code",
   "execution_count": 1,
   "id": "af8bedcd",
   "metadata": {},
   "outputs": [],
   "source": [
    "import os\n",
    "import pandas as pd\n",
    "from pathlib import Path"
   ]
  },
  {
   "cell_type": "markdown",
   "id": "43335972",
   "metadata": {},
   "source": [
    "## List of `FEATHER` files"
   ]
  },
  {
   "cell_type": "code",
   "execution_count": 2,
   "id": "55d7d518",
   "metadata": {},
   "outputs": [],
   "source": [
    "FOLDER = \"/home/etienne.doumazane/data/Solisa/220607-otof-14m-fos\""
   ]
  },
  {
   "cell_type": "code",
   "execution_count": 3,
   "id": "042086ac",
   "metadata": {},
   "outputs": [
    {
     "data": {
      "text/plain": [
       "['1kcells.feather', '2kcells.feather']"
      ]
     },
     "execution_count": 3,
     "metadata": {},
     "output_type": "execute_result"
    }
   ],
   "source": [
    "os.listdir(FOLDER) # What's in the folder"
   ]
  },
  {
   "cell_type": "code",
   "execution_count": 4,
   "id": "136d10a2",
   "metadata": {},
   "outputs": [
    {
     "data": {
      "text/plain": [
       "['1kcells.feather', '2kcells.feather']"
      ]
     },
     "execution_count": 4,
     "metadata": {},
     "output_type": "execute_result"
    }
   ],
   "source": [
    "fnames = [fname for fname in os.listdir(FOLDER) if fname.endswith('.feather')]\n",
    "fnames # the name of the feather files to be converted"
   ]
  },
  {
   "cell_type": "markdown",
   "id": "1489f9c2",
   "metadata": {},
   "source": [
    "## Optional: selection\n",
    "\n",
    "if you want to select only some of them, you can overwrite the `fnames` list.\n",
    "\n",
    "Here's an example:\n",
    "```python\n",
    "fnames = [\n",
    "     '5wcells.feather',\n",
    "     '1kcells.feather',\n",
    "     # '6wcells.feather',\n",
    "     # '7wcells.feather',\n",
    "     # '3kcells.feather',\n",
    "     # '2kcells.feather'\n",
    "    ]\n",
    "```"
   ]
  },
  {
   "cell_type": "code",
   "execution_count": 5,
   "id": "abde7d78",
   "metadata": {},
   "outputs": [],
   "source": [
    "# fnames =                    ## copy the updated list here and uncomment the cell"
   ]
  },
  {
   "cell_type": "markdown",
   "id": "29a3d88f",
   "metadata": {},
   "source": [
    "## Conversion of the `FEATHER` files"
   ]
  },
  {
   "cell_type": "code",
   "execution_count": 6,
   "id": "b7da180f",
   "metadata": {},
   "outputs": [],
   "source": [
    "(Path(FOLDER) / \"feathers\").mkdir(exist_ok=True)\n",
    "fpaths_in = [Path(FOLDER) / fname for fname in fnames]\n",
    "fpaths_out = [Path(FOLDER) / \"feathers\" / fname for fname in fnames]"
   ]
  },
  {
   "cell_type": "code",
   "execution_count": 9,
   "id": "48575777",
   "metadata": {},
   "outputs": [
    {
     "name": "stdout",
     "output_type": "stream",
     "text": [
      "/home/etienne.doumazane/data/Solisa/220607-otof-14m-fos/feathers/1kcells.feather.feather\n",
      "/home/etienne.doumazane/data/Solisa/220607-otof-14m-fos/feathers/2kcells.feather.feather\n"
     ]
    }
   ],
   "source": [
    "for fname in fnames:\n",
    "    fpath_in = Path(FOLDER) / fname \n",
    "    fpath_out = Path(FOLDER) / \"feathers\" / f\"{fname}.feather\"\n",
    "    pd.read_feather(fpath_in).to_csv(fpath_out)\n",
    "    print(fpath_out)"
   ]
  },
  {
   "cell_type": "code",
   "execution_count": null,
   "id": "1e7004f5",
   "metadata": {},
   "outputs": [],
   "source": []
  }
 ],
 "metadata": {
  "kernelspec": {
   "display_name": "Python 3 (ipykernel)",
   "language": "python",
   "name": "python3"
  },
  "language_info": {
   "codemirror_mode": {
    "name": "ipython",
    "version": 3
   },
   "file_extension": ".py",
   "mimetype": "text/x-python",
   "name": "python",
   "nbconvert_exporter": "python",
   "pygments_lexer": "ipython3",
   "version": "3.7.12"
  }
 },
 "nbformat": 4,
 "nbformat_minor": 5
}
