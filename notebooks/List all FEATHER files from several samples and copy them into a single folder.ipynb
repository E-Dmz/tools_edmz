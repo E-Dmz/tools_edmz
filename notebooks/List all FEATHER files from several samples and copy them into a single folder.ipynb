{
 "cells": [
  {
   "cell_type": "markdown",
   "id": "6fdd3bbc",
   "metadata": {},
   "source": [
    "# Lists all `FEATHER` files from several samples and copies them into a single folder"
   ]
  },
  {
   "cell_type": "markdown",
   "id": "eededa4f",
   "metadata": {},
   "source": [
    "- list `feather` files inside a directory\n",
    "- copies all `feather` files to one directory\n",
    "\n",
    "Example: \n",
    "```\n",
    "base folder: /home/etienne.doumazane/data/Alba\n",
    "/home/etienne.doumazane/data/Alba/200316-100/cells.feather \n",
    "-> /home/etienne.doumazane/data/Alba/feathers/200316-100_cells.feather\n",
    "```\n",
    "- not implemented: raise error if ambiguity"
   ]
  },
  {
   "cell_type": "markdown",
   "id": "d7b64c9c",
   "metadata": {},
   "source": [
    "## Imports"
   ]
  },
  {
   "cell_type": "code",
   "execution_count": 1,
   "id": "7cc931c7",
   "metadata": {},
   "outputs": [],
   "source": [
    "import os\n",
    "from pathlib import Path\n",
    "import shutil\n",
    "import glob"
   ]
  },
  {
   "cell_type": "markdown",
   "id": "4fb44fca",
   "metadata": {},
   "source": [
    "## Lists `FEATHER` files"
   ]
  },
  {
   "cell_type": "code",
   "execution_count": 2,
   "id": "e359b1e5",
   "metadata": {},
   "outputs": [],
   "source": [
    "FOLDER = \"/home/etienne.doumazane/data/Alba\""
   ]
  },
  {
   "cell_type": "code",
   "execution_count": 3,
   "id": "3634c74a",
   "metadata": {},
   "outputs": [
    {
     "name": "stdout",
     "output_type": "stream",
     "text": [
      "/home/etienne.doumazane/data/Alba/cells.feather\n",
      "/home/etienne.doumazane/data/Alba/200316-100/cells.feather\n",
      "/home/etienne.doumazane/data/Alba/200316-107/cells.feather\n",
      "/home/etienne.doumazane/data/Alba/200316-96/cells.feather\n",
      "/home/etienne.doumazane/data/Alba/200316-82_copy/cells.feather\n",
      "/home/etienne.doumazane/data/Alba/200316-81_copy/cells.feather\n",
      "/home/etienne.doumazane/data/Alba/200316-105/cells.feather\n",
      "/home/etienne.doumazane/data/Alba/200316-95/cells.feather\n",
      "/home/etienne.doumazane/data/Alba/200316-104/cells.feather\n",
      "/home/etienne.doumazane/data/Alba/200316-82/cells.feather\n",
      "/home/etienne.doumazane/data/Alba/200316-104_copy/cells.feather\n",
      "/home/etienne.doumazane/data/Alba/200316-81/cells.feather\n",
      "/home/etienne.doumazane/data/Alba/200316-114/cells.feather\n"
     ]
    }
   ],
   "source": [
    "POSIX_FOLDER = Path(FOLDER)\n",
    "fpaths = [Path(fpath) for fpath in glob.glob(str(POSIX_FOLDER) + '/**/cells.feather', recursive=True)]\n",
    "\n",
    "for fpath in fpaths:\n",
    "    print(fpath)"
   ]
  },
  {
   "cell_type": "markdown",
   "id": "2ce90242",
   "metadata": {},
   "source": [
    "## Creates a destination folder and copies files in it"
   ]
  },
  {
   "cell_type": "code",
   "execution_count": 4,
   "id": "68b8fcc6",
   "metadata": {},
   "outputs": [],
   "source": [
    "POSIX_DEST = POSIX_FOLDER / \"feathers\"\n",
    "POSIX_DEST.mkdir(parents=True, exist_ok=True)"
   ]
  },
  {
   "cell_type": "code",
   "execution_count": 5,
   "id": "90c3860e",
   "metadata": {},
   "outputs": [
    {
     "name": "stdout",
     "output_type": "stream",
     "text": [
      "/home/etienne.doumazane/data/Alba/cells.feather \n",
      "-> /home/etienne.doumazane/data/Alba/feathers/Alba_cells.feather\n",
      "\n",
      "/home/etienne.doumazane/data/Alba/200316-100/cells.feather \n",
      "-> /home/etienne.doumazane/data/Alba/feathers/200316-100_cells.feather\n",
      "\n",
      "/home/etienne.doumazane/data/Alba/200316-107/cells.feather \n",
      "-> /home/etienne.doumazane/data/Alba/feathers/200316-107_cells.feather\n",
      "\n",
      "/home/etienne.doumazane/data/Alba/200316-96/cells.feather \n",
      "-> /home/etienne.doumazane/data/Alba/feathers/200316-96_cells.feather\n",
      "\n",
      "/home/etienne.doumazane/data/Alba/200316-82_copy/cells.feather \n",
      "-> /home/etienne.doumazane/data/Alba/feathers/200316-82_copy_cells.feather\n",
      "\n",
      "/home/etienne.doumazane/data/Alba/200316-81_copy/cells.feather \n",
      "-> /home/etienne.doumazane/data/Alba/feathers/200316-81_copy_cells.feather\n",
      "\n",
      "/home/etienne.doumazane/data/Alba/200316-105/cells.feather \n",
      "-> /home/etienne.doumazane/data/Alba/feathers/200316-105_cells.feather\n",
      "\n",
      "/home/etienne.doumazane/data/Alba/200316-95/cells.feather \n",
      "-> /home/etienne.doumazane/data/Alba/feathers/200316-95_cells.feather\n",
      "\n",
      "/home/etienne.doumazane/data/Alba/200316-104/cells.feather \n",
      "-> /home/etienne.doumazane/data/Alba/feathers/200316-104_cells.feather\n",
      "\n",
      "/home/etienne.doumazane/data/Alba/200316-82/cells.feather \n",
      "-> /home/etienne.doumazane/data/Alba/feathers/200316-82_cells.feather\n",
      "\n",
      "/home/etienne.doumazane/data/Alba/200316-104_copy/cells.feather \n",
      "-> /home/etienne.doumazane/data/Alba/feathers/200316-104_copy_cells.feather\n",
      "\n",
      "/home/etienne.doumazane/data/Alba/200316-81/cells.feather \n",
      "-> /home/etienne.doumazane/data/Alba/feathers/200316-81_cells.feather\n",
      "\n",
      "/home/etienne.doumazane/data/Alba/200316-114/cells.feather \n",
      "-> /home/etienne.doumazane/data/Alba/feathers/200316-114_cells.feather\n",
      "\n"
     ]
    }
   ],
   "source": [
    "for fpath in fpaths:\n",
    "    fpath_dest = POSIX_DEST / f\"{fpath.parent.name}_{fpath.name}\"\n",
    "    shutil.copy(fpath, fpath_dest)\n",
    "    print(fpath, \"\\n->\", fpath_dest, end='\\n\\n')"
   ]
  }
 ],
 "metadata": {
  "kernelspec": {
   "display_name": "Python 3.8.10 64-bit",
   "language": "python",
   "name": "python3"
  },
  "language_info": {
   "codemirror_mode": {
    "name": "ipython",
    "version": 3
   },
   "file_extension": ".py",
   "mimetype": "text/x-python",
   "name": "python",
   "nbconvert_exporter": "python",
   "pygments_lexer": "ipython3",
   "version": "3.8.10"
  },
  "toc": {
   "base_numbering": 1,
   "nav_menu": {},
   "number_sections": true,
   "sideBar": true,
   "skip_h1_title": false,
   "title_cell": "Table of Contents",
   "title_sidebar": "Contents",
   "toc_cell": false,
   "toc_position": {},
   "toc_section_display": true,
   "toc_window_display": false
  },
  "vscode": {
   "interpreter": {
    "hash": "916dbcbb3f70747c44a77c7bcd40155683ae19c65e1c03b4aa3499c5328201f1"
   }
  }
 },
 "nbformat": 4,
 "nbformat_minor": 5
}
