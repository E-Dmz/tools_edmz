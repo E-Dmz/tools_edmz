{
 "cells": [
  {
   "cell_type": "code",
   "execution_count": 1,
   "id": "994b7aea",
   "metadata": {},
   "outputs": [],
   "source": [
    "from tools_edmz.params import *\n",
    "\n",
    "import os\n",
    "import numpy as np \n",
    "\n",
    "import h5py\n",
    "\n",
    "import pandas as pd\n",
    "\n",
    "import matplotlib.pyplot as plt\n",
    "import seaborn as sns"
   ]
  },
  {
   "cell_type": "code",
   "execution_count": 2,
   "id": "d939c88b",
   "metadata": {},
   "outputs": [],
   "source": [
    "fpath = '/home/etienne.doumazane/cached_atlas/engineered_from_ccf2017.h5'"
   ]
  },
  {
   "cell_type": "code",
   "execution_count": 3,
   "id": "bd86ab15",
   "metadata": {},
   "outputs": [],
   "source": [
    "f = h5py.File(fpath, 'r')"
   ]
  },
  {
   "cell_type": "code",
   "execution_count": null,
   "id": "ac9d2a3a",
   "metadata": {},
   "outputs": [],
   "source": [
    "f."
   ]
  }
 ],
 "metadata": {
  "kernelspec": {
   "display_name": "Python 3 (ipykernel)",
   "language": "python",
   "name": "python3"
  },
  "language_info": {
   "codemirror_mode": {
    "name": "ipython",
    "version": 3
   },
   "file_extension": ".py",
   "mimetype": "text/x-python",
   "name": "python",
   "nbconvert_exporter": "python",
   "pygments_lexer": "ipython3",
   "version": "3.10.4"
  }
 },
 "nbformat": 4,
 "nbformat_minor": 5
}
