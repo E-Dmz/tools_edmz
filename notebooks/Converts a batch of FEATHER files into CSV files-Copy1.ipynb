{
 "cells": [
  {
   "cell_type": "markdown",
   "id": "114e8a19",
   "metadata": {},
   "source": [
    "# Converts a batch of `FEATHER` files into `CSV` files"
   ]
  },
  {
   "cell_type": "markdown",
   "id": "fa43c408",
   "metadata": {},
   "source": [
    "- `Creation` = 2022_10_07\n",
    "- `Last modification` = 2022_10_07"
   ]
  },
  {
   "cell_type": "markdown",
   "id": "264acdaf",
   "metadata": {},
   "source": [
    "## Imports"
   ]
  },
  {
   "cell_type": "code",
   "execution_count": 2,
   "id": "34db2da9",
   "metadata": {},
   "outputs": [],
   "source": [
    "import os\n",
    "import pandas as pd\n",
    "from pathlib import Path"
   ]
  },
  {
   "cell_type": "markdown",
   "id": "df9e07eb",
   "metadata": {},
   "source": [
    "## List of `FEATHER` files"
   ]
  },
  {
   "cell_type": "code",
   "execution_count": 5,
   "id": "4ad87b3a",
   "metadata": {},
   "outputs": [],
   "source": [
    "FOLDER = \"/home/etienne.doumazane/data/Alba/200316-81\""
   ]
  },
  {
   "cell_type": "code",
   "execution_count": 6,
   "id": "5b081944",
   "metadata": {},
   "outputs": [
    {
     "data": {
      "text/plain": [
       "['cells_ClearMap1_intensities.npy',\n",
       " 'alignment_params.cfg',\n",
       " 'cell_map_params.cfg',\n",
       " 'errors.html',\n",
       " 'density_counts.tif',\n",
       " 'sample_params.cfg',\n",
       " 'cells_stats.csv',\n",
       " 'info.log',\n",
       " 'density_counts15.tif',\n",
       " 'cells_ClearMap1_points_transformed.npy',\n",
       " 'density_counts10.tif',\n",
       " 'resampled.tif',\n",
       " 'cells_ClearMap1_points.npy',\n",
       " 'elastix_resampled_to_auto',\n",
       " 'cells.npy',\n",
       " 'cells_filtered.npy',\n",
       " 'density_counts5.tif',\n",
       " 'elastix_auto_to_reference',\n",
       " 'cells_2017.feather',\n",
       " 'cells.feather',\n",
       " 'cells_raw.npy',\n",
       " 'resampled_autofluorescence.tif']"
      ]
     },
     "execution_count": 6,
     "metadata": {},
     "output_type": "execute_result"
    }
   ],
   "source": [
    "os.listdir(FOLDER) # What's in the folder"
   ]
  },
  {
   "cell_type": "code",
   "execution_count": 7,
   "id": "57931d69",
   "metadata": {},
   "outputs": [
    {
     "data": {
      "text/plain": [
       "['cells_2017.feather', 'cells.feather']"
      ]
     },
     "execution_count": 7,
     "metadata": {},
     "output_type": "execute_result"
    }
   ],
   "source": [
    "fnames = [fname for fname in os.listdir(FOLDER) if fname.endswith('.feather')]\n",
    "fnames # the name of the feather files to be converted"
   ]
  },
  {
   "cell_type": "markdown",
   "id": "ec149b95",
   "metadata": {},
   "source": [
    "## Optional: selection\n",
    "\n",
    "if you want to select only some of them, you can overwrite the `fnames` list.\n",
    "\n",
    "Here's an example:\n",
    "```python\n",
    "fnames = [\n",
    "     '5wcells.feather',\n",
    "     '1kcells.feather',\n",
    "     # '6wcells.feather',\n",
    "     # '7wcells.feather',\n",
    "     # '3kcells.feather',\n",
    "     # '2kcells.feather'\n",
    "    ]\n",
    "```"
   ]
  },
  {
   "cell_type": "code",
   "execution_count": 8,
   "id": "a4cf3e84",
   "metadata": {},
   "outputs": [],
   "source": [
    "fnames =    [\"/home/etienne.doumazane/data/Alba/200316-81/cells.feather\"]                ## copy the updated list here and uncomment the cell"
   ]
  },
  {
   "cell_type": "markdown",
   "id": "28dc3202",
   "metadata": {},
   "source": [
    "## Conversion of the `FEATHER` files"
   ]
  },
  {
   "cell_type": "code",
   "execution_count": 9,
   "id": "3c5d094b",
   "metadata": {},
   "outputs": [],
   "source": [
    "(Path(FOLDER) / \"feathers\").mkdir(exist_ok=True)\n",
    "fpaths_in = [Path(FOLDER) / fname for fname in fnames]\n",
    "fpaths_out = [Path(FOLDER) / \"feathers\" / fname for fname in fnames]"
   ]
  },
  {
   "cell_type": "code",
   "execution_count": 11,
   "id": "5080683d",
   "metadata": {},
   "outputs": [
    {
     "name": "stdout",
     "output_type": "stream",
     "text": [
      "/home/etienne.doumazane/data/Alba/200316-81/cells.feather.csv\n"
     ]
    }
   ],
   "source": [
    "for fname in fnames:\n",
    "    fpath_in = Path(FOLDER) / fname \n",
    "    fpath_out = Path(FOLDER) / \"feathers\" / f\"{fname}.csv\"\n",
    "    pd.read_feather(fpath_in).to_csv(fpath_out)\n",
    "    print(fpath_out)"
   ]
  },
  {
   "cell_type": "code",
   "execution_count": null,
   "id": "4bb9b3c0",
   "metadata": {},
   "outputs": [],
   "source": []
  }
 ],
 "metadata": {
  "kernelspec": {
   "display_name": "Python 3",
   "language": "python",
   "name": "python3"
  },
  "language_info": {
   "codemirror_mode": {
    "name": "ipython",
    "version": 3
   },
   "file_extension": ".py",
   "mimetype": "text/x-python",
   "name": "python",
   "nbconvert_exporter": "python",
   "pygments_lexer": "ipython3",
   "version": "3.9.13"
  }
 },
 "nbformat": 4,
 "nbformat_minor": 5
}
